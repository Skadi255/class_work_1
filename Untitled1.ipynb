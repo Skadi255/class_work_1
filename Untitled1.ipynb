{
 "cells": [
  {
   "cell_type": "code",
   "execution_count": 5,
   "id": "2ebeb681",
   "metadata": {},
   "outputs": [],
   "source": [
    "import os\n",
    "import csv\n",
    "import pandas as pd\n",
    "import numpy as np\n",
    "import matplotlib.pyplot as plt\n",
    "\n",
    "\n"
   ]
  },
  {
   "cell_type": "code",
   "execution_count": 9,
   "id": "02708cd0",
   "metadata": {},
   "outputs": [],
   "source": [
    "# Step 1: Read the data from the file\n",
    "data_df = pd.read_csv(\"Resources/HPI_master.csv\")\n",
    "\n"
   ]
  },
  {
   "cell_type": "code",
   "execution_count": 10,
   "id": "916c80ec",
   "metadata": {},
   "outputs": [
    {
     "ename": "NameError",
     "evalue": "name 'data_df' is not defined",
     "output_type": "error",
     "traceback": [
      "\u001b[0;31m---------------------------------------------------------------------------\u001b[0m",
      "\u001b[0;31mNameError\u001b[0m                                 Traceback (most recent call last)",
      "Cell \u001b[0;32mIn[10], line 3\u001b[0m\n\u001b[1;32m      1\u001b[0m \u001b[38;5;66;03m# Step 2: Preprocess the data\u001b[39;00m\n\u001b[1;32m      2\u001b[0m \u001b[38;5;66;03m# Filter data for Pre and Post Covid periods\u001b[39;00m\n\u001b[0;32m----> 3\u001b[0m pre_covid \u001b[38;5;241m=\u001b[39m data_df[(data_df[\u001b[38;5;124m'\u001b[39m\u001b[38;5;124myr\u001b[39m\u001b[38;5;124m'\u001b[39m] \u001b[38;5;241m>\u001b[39m\u001b[38;5;241m=\u001b[39m \u001b[38;5;241m2018\u001b[39m) \u001b[38;5;241m&\u001b[39m (data_df[\u001b[38;5;124m'\u001b[39m\u001b[38;5;124myr\u001b[39m\u001b[38;5;124m'\u001b[39m] \u001b[38;5;241m<\u001b[39m\u001b[38;5;241m=\u001b[39m \u001b[38;5;241m2019\u001b[39m)]\n\u001b[1;32m      4\u001b[0m post_covid \u001b[38;5;241m=\u001b[39m data_df[(data_df[\u001b[38;5;124m'\u001b[39m\u001b[38;5;124myr\u001b[39m\u001b[38;5;124m'\u001b[39m] \u001b[38;5;241m>\u001b[39m\u001b[38;5;241m=\u001b[39m \u001b[38;5;241m2020\u001b[39m) \u001b[38;5;241m&\u001b[39m (data_df[\u001b[38;5;124m'\u001b[39m\u001b[38;5;124myr\u001b[39m\u001b[38;5;124m'\u001b[39m] \u001b[38;5;241m<\u001b[39m\u001b[38;5;241m=\u001b[39m \u001b[38;5;241m2021\u001b[39m)]\n\u001b[1;32m      6\u001b[0m \u001b[38;5;66;03m# Step 3: Analyze and plot the data\u001b[39;00m\n\u001b[1;32m      7\u001b[0m \n\u001b[1;32m      8\u001b[0m \u001b[38;5;66;03m# Group by 'yr' and 'period' for average house prices\u001b[39;00m\n",
      "\u001b[0;31mNameError\u001b[0m: name 'data_df' is not defined"
     ]
    }
   ],
   "source": [
    "# Step 2: Preprocess the data\n",
    "# Filter data for Pre and Post Covid periods\n",
    "pre_covid = data_df[(data_df['yr'] >= 2018) & (data_df['yr'] <= 2019)]\n",
    "post_covid = data_df[(data_df['yr'] >= 2020) & (data_df['yr'] <= 2021)]\n",
    "\n",
    "# Step 3: Analyze and plot the data\n",
    "\n",
    "# Group by 'yr' and 'period' for average house prices\n",
    "pre_covid_avg = pre_covid.groupby(['yr', 'period'])['index_nsa'].mean().reset_index()\n",
    "post_covid_avg = post_covid.groupby(['yr', 'period'])['index_nsa'].mean().reset_index()\n",
    "\n",
    "# Create plots\n",
    "fig, ax = plt.subplots(figsize=(10, 6))\n",
    "\n",
    "# Plot Pre Covid data\n",
    "ax.plot(pre_covid_avg['yr'] + (pre_covid_avg['period'] - 1) / 12, pre_covid_avg['index_nsa'], label='Pre Covid')\n",
    "\n",
    "# Plot Post Covid data\n",
    "ax.plot(post_covid_avg['yr'] + (post_covid_avg['period'] - 1) / 12, post_covid_avg['index_nsa'], label='Post Covid')\n",
    "\n",
    "# Set labels and title\n",
    "ax.set_xlabel('Year')\n",
    "ax.set_ylabel('House Price Index')\n",
    "ax.set_title('House Price Increases Pre and Post Covid')\n",
    "\n",
    "# Add legend\n",
    "ax.legend()\n",
    "\n",
    "# Show the plot\n",
    "plt.show()"
   ]
  },
  {
   "cell_type": "code",
   "execution_count": null,
   "id": "f014980a",
   "metadata": {},
   "outputs": [],
   "source": []
  },
  {
   "cell_type": "code",
   "execution_count": null,
   "id": "0b443bf5",
   "metadata": {},
   "outputs": [],
   "source": []
  }
 ],
 "metadata": {
  "kernelspec": {
   "display_name": "Python 3 (ipykernel)",
   "language": "python",
   "name": "python3"
  },
  "language_info": {
   "codemirror_mode": {
    "name": "ipython",
    "version": 3
   },
   "file_extension": ".py",
   "mimetype": "text/x-python",
   "name": "python",
   "nbconvert_exporter": "python",
   "pygments_lexer": "ipython3",
   "version": "3.11.4"
  }
 },
 "nbformat": 4,
 "nbformat_minor": 5
}
