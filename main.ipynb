{
 "cells": [
  {
   "cell_type": "code",
   "execution_count": 4,
   "id": "25f21620",
   "metadata": {},
   "outputs": [],
   "source": [
    "#Dependencies and setup\n",
    "import pandas as pd\n",
    "from pathlib import Path\n",
    "from datetime import date\n",
    "import matplotlib as plt"
   ]
  },
  {
   "cell_type": "code",
   "execution_count": 14,
   "id": "0c15f06e",
   "metadata": {},
   "outputs": [
    {
     "data": {
      "text/html": [
       "<div>\n",
       "<style scoped>\n",
       "    .dataframe tbody tr th:only-of-type {\n",
       "        vertical-align: middle;\n",
       "    }\n",
       "\n",
       "    .dataframe tbody tr th {\n",
       "        vertical-align: top;\n",
       "    }\n",
       "\n",
       "    .dataframe thead th {\n",
       "        text-align: right;\n",
       "    }\n",
       "</style>\n",
       "<table border=\"1\" class=\"dataframe\">\n",
       "  <thead>\n",
       "    <tr style=\"text-align: right;\">\n",
       "      <th></th>\n",
       "      <th>Week</th>\n",
       "      <th>U.S. 30 yr FRM</th>\n",
       "    </tr>\n",
       "  </thead>\n",
       "  <tbody>\n",
       "    <tr>\n",
       "      <th>2737</th>\n",
       "      <td>2023-09-14</td>\n",
       "      <td>7.18</td>\n",
       "    </tr>\n",
       "    <tr>\n",
       "      <th>2738</th>\n",
       "      <td>2023-09-21</td>\n",
       "      <td>7.19</td>\n",
       "    </tr>\n",
       "    <tr>\n",
       "      <th>2739</th>\n",
       "      <td>2023-09-28</td>\n",
       "      <td>7.31</td>\n",
       "    </tr>\n",
       "    <tr>\n",
       "      <th>2740</th>\n",
       "      <td>2023-10-05</td>\n",
       "      <td>7.49</td>\n",
       "    </tr>\n",
       "    <tr>\n",
       "      <th>2741</th>\n",
       "      <td>2023-10-12</td>\n",
       "      <td>7.57</td>\n",
       "    </tr>\n",
       "  </tbody>\n",
       "</table>\n",
       "</div>"
      ],
      "text/plain": [
       "           Week  U.S. 30 yr FRM\n",
       "2737 2023-09-14            7.18\n",
       "2738 2023-09-21            7.19\n",
       "2739 2023-09-28            7.31\n",
       "2740 2023-10-05            7.49\n",
       "2741 2023-10-12            7.57"
      ]
     },
     "execution_count": 14,
     "metadata": {},
     "output_type": "execute_result"
    }
   ],
   "source": [
    "#Setting up the Work From Home data set\n",
    "\n",
    "#Loading the Work From Home data\n",
    "wfh_data = Path(\"resources/WFH_Share.csv\")\n",
    "historical_data = Path(\"resources/historicalweeklydata.csv\")\n",
    "\n",
    "#Read and store into DataFrame\n",
    "wfh_df = pd.read_csv(wfh_data)\n",
    "history_df = pd.read_csv(historical_data)\n",
    "#Clean up the columns\n",
    "wfh_df = wfh_df[[\"date\",\"WFH_share\"]]\n",
    "wfh_df.dropna()\n",
    "\n",
    "#Change date column data type \n",
    "wfh_df[\"date\"]=pd.to_datetime(wfh_df[\"date\"])\n",
    "\n",
    "#Eliminate dates under 2018\n",
    "wfh_df = wfh_df[(wfh_df[\"date\"] > \"2018-01-01\")]\n",
    "wfh_df = wfh_df[(wfh_df[\"date\"] < \"2022-01-01\")]\n",
    "\n",
    "history_df[\"Week\"]=pd.to_datetime(history_df[\"Week\"])\n",
    "history_df.tail()\n",
    "\n"
   ]
  },
  {
   "cell_type": "code",
   "execution_count": null,
   "id": "6ba75277",
   "metadata": {},
   "outputs": [],
   "source": []
  }
 ],
 "metadata": {
  "kernelspec": {
   "display_name": "base",
   "language": "python",
   "name": "python3"
  },
  "language_info": {
   "codemirror_mode": {
    "name": "ipython",
    "version": 3
   },
   "file_extension": ".py",
   "mimetype": "text/x-python",
   "name": "python",
   "nbconvert_exporter": "python",
   "pygments_lexer": "ipython3",
   "version": "3.11.4"
  }
 },
 "nbformat": 4,
 "nbformat_minor": 5
}
