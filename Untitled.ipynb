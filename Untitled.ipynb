{
 "cells": [
  {
   "cell_type": "code",
   "execution_count": 5,
   "id": "ff055279",
   "metadata": {},
   "outputs": [],
   "source": [
    "#Step 1: Import libraries\n",
    "\n",
    "import os\n",
    "import csv\n",
    "import pandas as pd\n",
    "import matplotlib.pyplot as plt\n",
    "import numpy as np\n",
    "\n",
    "# Step 2: Read and Analyze the Data\n",
    "\n",
    "data_df = pd.read_csv(\"Resources/HPI_master.csv\")\n",
    "\n",
    "\n"
   ]
  },
  {
   "cell_type": "code",
   "execution_count": null,
   "id": "d3f5d96b",
   "metadata": {},
   "outputs": [],
   "source": [
    "# Step 3: Define Pre-COVID and Post-COVID Date Ranges\n",
    "pre_covid_start = '2019-01-01'\n",
    "pre_covid_end = '2020-12-31'\n",
    "post_covid_start = '2021-01-01'\n",
    "post_covid_end = '2022-12-31'\n",
    "\n",
    "pre_covid_data = data_df[(data_df['Date'] >= pre_covid_start) & (data_df['Date'] <= pre_covid_end)]\n",
    "post_covid_data = data_df[(data_df['Date'] >= post_covid_start) & (data_df['Date'] <= post_covid_end)]\n",
    "\n",
    "# Step 4: Compare Prices and Plot Graphs\n",
    "\n",
    "plt.figure(figsize=(10, 5))\n",
    "\n",
    "# Pre-COVID Prices\n",
    "plt.subplot(1, 2, 1)\n",
    "plt.plot(pre_covid_data['Date'], pre_covid_data['Price'], label='Pre-COVID')\n",
    "plt.title('Prices Pre-COVID')\n",
    "plt.xticks(rotation=45)\n",
    "plt.legend()\n",
    "\n",
    "# Post-COVID Prices\n",
    "plt.subplot(1, 2, 2)\n",
    "plt.plot(post_covid_data['Date'], post_covid_data['Price'], color='orange', label='Post-COVID')\n",
    "plt.title('Prices Post-COVID')\n",
    "plt.xticks(rotation=45)\n",
    "plt.legend()\n",
    "\n",
    "plt.tight_layout()\n",
    "plt.show()\n"
   ]
  }
 ],
 "metadata": {
  "kernelspec": {
   "display_name": "Python 3 (ipykernel)",
   "language": "python",
   "name": "python3"
  },
  "language_info": {
   "codemirror_mode": {
    "name": "ipython",
    "version": 3
   },
   "file_extension": ".py",
   "mimetype": "text/x-python",
   "name": "python",
   "nbconvert_exporter": "python",
   "pygments_lexer": "ipython3",
   "version": "3.11.4"
  }
 },
 "nbformat": 4,
 "nbformat_minor": 5
}
